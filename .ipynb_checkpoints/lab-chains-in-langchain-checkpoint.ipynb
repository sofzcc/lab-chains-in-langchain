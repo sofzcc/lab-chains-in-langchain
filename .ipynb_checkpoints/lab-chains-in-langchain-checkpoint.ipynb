{
 "cells": [
  {
   "cell_type": "markdown",
   "id": "52824b89-532a-4e54-87e9-1410813cd39e",
   "metadata": {},
   "source": [
    "# Lab | Chains in LangChain\n",
    "\n",
    "## Outline\n",
    "\n",
    "* LLMChain\n",
    "* Sequential Chains\n",
    "  * SimpleSequentialChain\n",
    "  * SequentialChain\n",
    "* Router Chain"
   ]
  },
  {
   "cell_type": "code",
   "execution_count": 1,
   "id": "541eb2f1",
   "metadata": {},
   "outputs": [],
   "source": [
    "import warnings\n",
    "warnings.filterwarnings('ignore')"
   ]
  },
  {
   "cell_type": "code",
   "execution_count": 2,
   "id": "b7ed03ed-1322-49e3-b2a2-33e94fb592ef",
   "metadata": {
    "tags": []
   },
   "outputs": [],
   "source": [
    "import os\n",
    "\n",
    "from dotenv import load_dotenv, find_dotenv\n",
    "_ = load_dotenv(find_dotenv())\n",
    "\n",
    "OPENAI_API_KEY  = os.getenv('OPENAI_API_KEY')\n",
    "HUGGINGFACEHUB_API_TOKEN = os.getenv('HUGGINGFACEHUB_API_TOKEN')"
   ]
  },
  {
   "cell_type": "code",
   "execution_count": 3,
   "id": "b84e441b",
   "metadata": {
    "tags": []
   },
   "outputs": [],
   "source": [
    "#!pip install pandas"
   ]
  },
  {
   "cell_type": "code",
   "execution_count": 5,
   "id": "974acf8e-8f88-42de-88f8-40a82cb58e8b",
   "metadata": {
    "tags": []
   },
   "outputs": [],
   "source": [
    "import pandas as pd\n",
    "df = pd.read_csv('./data/Data.csv')"
   ]
  },
  {
   "cell_type": "code",
   "execution_count": 6,
   "id": "b7a09c35",
   "metadata": {
    "tags": []
   },
   "outputs": [
    {
     "data": {
      "text/html": [
       "<div>\n",
       "<style scoped>\n",
       "    .dataframe tbody tr th:only-of-type {\n",
       "        vertical-align: middle;\n",
       "    }\n",
       "\n",
       "    .dataframe tbody tr th {\n",
       "        vertical-align: top;\n",
       "    }\n",
       "\n",
       "    .dataframe thead th {\n",
       "        text-align: right;\n",
       "    }\n",
       "</style>\n",
       "<table border=\"1\" class=\"dataframe\">\n",
       "  <thead>\n",
       "    <tr style=\"text-align: right;\">\n",
       "      <th></th>\n",
       "      <th>Product</th>\n",
       "      <th>Review</th>\n",
       "    </tr>\n",
       "  </thead>\n",
       "  <tbody>\n",
       "    <tr>\n",
       "      <th>0</th>\n",
       "      <td>Queen Size Sheet Set</td>\n",
       "      <td>I ordered a king size set. My only criticism w...</td>\n",
       "    </tr>\n",
       "    <tr>\n",
       "      <th>1</th>\n",
       "      <td>Waterproof Phone Pouch</td>\n",
       "      <td>I loved the waterproof sac, although the openi...</td>\n",
       "    </tr>\n",
       "    <tr>\n",
       "      <th>2</th>\n",
       "      <td>Luxury Air Mattress</td>\n",
       "      <td>This mattress had a small hole in the top of i...</td>\n",
       "    </tr>\n",
       "    <tr>\n",
       "      <th>3</th>\n",
       "      <td>Pillows Insert</td>\n",
       "      <td>This is the best throw pillow fillers on Amazo...</td>\n",
       "    </tr>\n",
       "    <tr>\n",
       "      <th>4</th>\n",
       "      <td>Milk Frother Handheld\\n</td>\n",
       "      <td>I loved this product. But they only seem to l...</td>\n",
       "    </tr>\n",
       "  </tbody>\n",
       "</table>\n",
       "</div>"
      ],
      "text/plain": [
       "                   Product                                             Review\n",
       "0     Queen Size Sheet Set  I ordered a king size set. My only criticism w...\n",
       "1   Waterproof Phone Pouch  I loved the waterproof sac, although the openi...\n",
       "2      Luxury Air Mattress  This mattress had a small hole in the top of i...\n",
       "3           Pillows Insert  This is the best throw pillow fillers on Amazo...\n",
       "4  Milk Frother Handheld\\n   I loved this product. But they only seem to l..."
      ]
     },
     "execution_count": 6,
     "metadata": {},
     "output_type": "execute_result"
    }
   ],
   "source": [
    "df.head()"
   ]
  },
  {
   "cell_type": "markdown",
   "id": "b940ce7c",
   "metadata": {},
   "source": [
    "## LLMChain"
   ]
  },
  {
   "cell_type": "code",
   "execution_count": 7,
   "id": "e92dff22",
   "metadata": {
    "tags": []
   },
   "outputs": [],
   "source": [
    "from langchain_openai import ChatOpenAI\n",
    "from langchain.prompts import ChatPromptTemplate\n",
    "from langchain.chains import LLMChain"
   ]
  },
  {
   "cell_type": "code",
   "execution_count": 9,
   "id": "943237a7",
   "metadata": {},
   "outputs": [],
   "source": [
    "#Replace None by your own value and justify\n",
    "llm = ChatOpenAI(temperature=0)\n"
   ]
  },
  {
   "cell_type": "code",
   "execution_count": 11,
   "id": "cdcdb42d",
   "metadata": {},
   "outputs": [],
   "source": [
    "prompt = ChatPromptTemplate.from_template(\"Please provide a detailed description of the product: {product_name}. Include key features, benefits, and any unique selling points.\")"
   ]
  },
  {
   "cell_type": "code",
   "execution_count": 12,
   "id": "d7abc20b",
   "metadata": {},
   "outputs": [
    {
     "name": "stderr",
     "output_type": "stream",
     "text": [
      "/opt/anaconda3/lib/python3.11/site-packages/langchain_core/_api/deprecation.py:139: LangChainDeprecationWarning: The class `LLMChain` was deprecated in LangChain 0.1.17 and will be removed in 1.0. Use RunnableSequence, e.g., `prompt | llm` instead.\n",
      "  warn_deprecated(\n"
     ]
    }
   ],
   "source": [
    "\n",
    "chain = LLMChain(llm=llm, prompt=prompt)"
   ]
  },
  {
   "cell_type": "code",
   "execution_count": 15,
   "id": "ad44d1fb",
   "metadata": {},
   "outputs": [
    {
     "name": "stderr",
     "output_type": "stream",
     "text": [
      "/opt/anaconda3/lib/python3.11/site-packages/langchain_core/_api/deprecation.py:139: LangChainDeprecationWarning: The method `Chain.run` was deprecated in langchain 0.1.0 and will be removed in 0.3.0. Use invoke instead.\n",
      "  warn_deprecated(\n"
     ]
    },
    {
     "data": {
      "text/plain": [
       "\"Jeans are a staple in everyone's wardrobe, offering a versatile and timeless option for everyday wear. They are a type of pants made from denim fabric, typically featuring a zip fly, belt loops, and pockets. \\n\\nKey features of jeans include their durability, comfort, and versatility. The denim fabric used in jeans is known for its strength and longevity, making them a reliable choice for daily wear. Additionally, jeans are designed to provide a comfortable fit, with many styles offering stretch or relaxed options for ease of movement. The classic design of jeans also makes them a versatile option that can be dressed up or down for various occasions.\\n\\nThe benefits of jeans include their ability to be worn in a variety of settings, from casual outings to more formal events. They can be paired with a t-shirt for a laid-back look or dressed up with a blouse and heels for a more polished ensemble. Jeans also come in a wide range of styles, including skinny, bootcut, straight-leg, and boyfriend, allowing individuals to find the perfect fit for their body type and personal style.\\n\\nSome unique selling points of jeans include their ability to be customized through distressing, embellishments, or unique washes. This allows individuals to express their personal style and stand out from the crowd. Additionally, many jeans are designed with innovative features such as moisture-wicking technology, stain resistance, or eco-friendly materials, appealing to consumers looking for sustainable and functional clothing options.\\n\\nOverall, jeans are a versatile and timeless wardrobe staple that offers durability, comfort, and style for individuals of all ages and lifestyles.\""
      ]
     },
     "execution_count": 15,
     "metadata": {},
     "output_type": "execute_result"
    }
   ],
   "source": [
    "\n",
    "product = \"Jeans\"\n",
    "chain.run(product)"
   ]
  },
  {
   "cell_type": "code",
   "execution_count": 16,
   "id": "bf95e638",
   "metadata": {},
   "outputs": [
    {
     "data": {
      "text/plain": [
       "'Jeans are a versatile and timeless wardrobe staple that can be dressed up or down for any occasion. Key features of jeans include a sturdy denim fabric construction, a variety of fits including skinny, slim, straight, bootcut, and wide-leg styles, and a range of washes from dark indigo to light distressed. \\n\\nBenefits of wearing jeans include their durability and longevity, as well as their ability to be styled in numerous ways to suit different outfits and trends. Jeans are also extremely comfortable to wear, with most styles featuring stretchy denim for ease of movement.\\n\\nSome unique selling points of jeans include their ability to flatter a wide range of body types, their classic and enduring appeal, and their ability to be worn year-round in any season. Jeans can be easily dressed up with a blazer and heels for a night out, or dressed down with a t-shirt and sneakers for a casual look. Additionally, jeans come in a wide range of price points to suit any budget, making them accessible to all consumers. \\n\\nOverall, jeans are a wardrobe essential that offer style, comfort, and versatility to any wardrobe.'"
      ]
     },
     "execution_count": 16,
     "metadata": {},
     "output_type": "execute_result"
    }
   ],
   "source": [
    "#Temperature = 1\n",
    "\n",
    "\n",
    "llm_2 = ChatOpenAI(temperature=1)\n",
    "\n",
    "chain_2 = LLMChain(llm=llm_2, prompt=prompt)\n",
    "\n",
    "product = \"Jeans\"\n",
    "chain_2.run(product)"
   ]
  },
  {
   "cell_type": "markdown",
   "id": "69b03469",
   "metadata": {},
   "source": [
    "## SimpleSequentialChain"
   ]
  },
  {
   "cell_type": "code",
   "execution_count": 17,
   "id": "febee243",
   "metadata": {},
   "outputs": [],
   "source": [
    "from langchain.chains import SimpleSequentialChain"
   ]
  },
  {
   "cell_type": "code",
   "execution_count": 19,
   "id": "2f31aa8a",
   "metadata": {},
   "outputs": [],
   "source": [
    "llm = ChatOpenAI(temperature=0.9)\n",
    "\n",
    "# prompt template 1\n",
    "first_prompt = ChatPromptTemplate.from_template(\n",
    "    #Repeat the initial query or create a new query that would feed into the second prompt\n",
    "    \"Please provide a detailed description of the product: {product_name}. Include key features, benefits, and any unique selling points.\"\n",
    ")\n",
    "\n",
    "# Chain 1\n",
    "chain_one = LLMChain(llm=llm, prompt=first_prompt)"
   ]
  },
  {
   "cell_type": "code",
   "execution_count": 20,
   "id": "3f5d5b76",
   "metadata": {},
   "outputs": [],
   "source": [
    "\n",
    "# prompt template 2\n",
    "second_prompt = ChatPromptTemplate.from_template(\n",
    "    \"Based on the detailed description: {detailed_description}, create a compelling marketing pitch for the product.\"\n",
    ")\n",
    "# chain 2\n",
    "chain_two = LLMChain(llm=llm, prompt=second_prompt)"
   ]
  },
  {
   "cell_type": "code",
   "execution_count": 21,
   "id": "6c1eb2c4",
   "metadata": {},
   "outputs": [],
   "source": [
    "overall_simple_chain = SimpleSequentialChain(chains=[chain_one, chain_two],\n",
    "                                             verbose=True\n",
    "                                            )"
   ]
  },
  {
   "cell_type": "code",
   "execution_count": 22,
   "id": "78458efe",
   "metadata": {},
   "outputs": [
    {
     "name": "stdout",
     "output_type": "stream",
     "text": [
      "\n",
      "\n",
      "\u001b[1m> Entering new SimpleSequentialChain chain...\u001b[0m\n",
      "\u001b[36;1m\u001b[1;3mProduct Description:\n",
      "\n",
      "Jeans are a staple in every person's wardrobe. Our jeans are made from high-quality denim material that is durable and long-lasting. They come in a variety of styles, fits, and washes to suit everyone's individual preferences.\n",
      "\n",
      "Key Features:\n",
      "\n",
      "1. High-Quality Denim: Our jeans are made from premium denim material that is soft, comfortable, and built to last.\n",
      "\n",
      "2. Variety of Styles: From skinny jeans to bootcut, our collection offers a wide range of styles to suit different body types and fashion preferences.\n",
      "\n",
      "3. Comfortable Fit: Our jeans are designed with stretch material for a comfortable fit that moves with you throughout the day.\n",
      "\n",
      "4. Versatile: Jeans are a versatile wardrobe staple that can be dressed up or down for any occasion.\n",
      "\n",
      "Benefits:\n",
      "\n",
      "1. Durability: Our jeans are made to withstand daily wear and tear, making them a long-lasting investment piece in your wardrobe.\n",
      "\n",
      "2. Comfort: The stretch material and comfortable fit of our jeans ensure all-day comfort without sacrificing style.\n",
      "\n",
      "3. Stylish: Jeans are a timeless fashion piece that never goes out of style, making them a versatile addition to any wardrobe.\n",
      "\n",
      "Unique Selling Points:\n",
      "\n",
      "1. Customization: Our jeans can be customized with personalized embroidery, patches, or distressing for a unique and one-of-a-kind look.\n",
      "\n",
      "2. Sustainable: Our jeans are made using eco-friendly practices and materials, making them a sustainable choice for environmentally conscious consumers.\n",
      "\n",
      "3. Size Inclusivity: Our jeans come in a wide range of sizes to cater to all body types, promoting inclusivity and body positivity.\n",
      "\n",
      "Overall, our jeans are a versatile, stylish, and durable wardrobe staple that offers comfort and style for any occasion. With a variety of styles and fits to choose from, our jeans are the perfect addition to any wardrobe.\u001b[0m\n",
      "\u001b[33;1m\u001b[1;3m\"Introducing our high-quality denim jeans, the ultimate wardrobe staple for style and comfort. Made from premium denim material, our jeans are durable and long-lasting, ensuring they will be a go-to piece in your closet for years to come. With a variety of styles, fits, and washes to choose from, there is something for everyone.\n",
      "\n",
      "The key features of our jeans include a comfortable fit with stretch material that moves with you throughout the day, making them perfect for any occasion. Not only are they stylish and versatile, but our jeans also offer customization options for a unique look, as well as being made sustainably with eco-friendly practices. Additionally, our size inclusivity ensures that everyone can find the perfect fit.\n",
      "\n",
      "Don't settle for anything less than the best. Elevate your wardrobe with our stylish, comfortable, and sustainable denim jeans. Make a statement with a timeless fashion piece that never goes out of style. Invest in quality, invest in our jeans.\"\u001b[0m\n",
      "\n",
      "\u001b[1m> Finished chain.\u001b[0m\n"
     ]
    },
    {
     "data": {
      "text/plain": [
       "'\"Introducing our high-quality denim jeans, the ultimate wardrobe staple for style and comfort. Made from premium denim material, our jeans are durable and long-lasting, ensuring they will be a go-to piece in your closet for years to come. With a variety of styles, fits, and washes to choose from, there is something for everyone.\\n\\nThe key features of our jeans include a comfortable fit with stretch material that moves with you throughout the day, making them perfect for any occasion. Not only are they stylish and versatile, but our jeans also offer customization options for a unique look, as well as being made sustainably with eco-friendly practices. Additionally, our size inclusivity ensures that everyone can find the perfect fit.\\n\\nDon\\'t settle for anything less than the best. Elevate your wardrobe with our stylish, comfortable, and sustainable denim jeans. Make a statement with a timeless fashion piece that never goes out of style. Invest in quality, invest in our jeans.\"'"
      ]
     },
     "execution_count": 22,
     "metadata": {},
     "output_type": "execute_result"
    }
   ],
   "source": [
    "overall_simple_chain.run(product)"
   ]
  },
  {
   "cell_type": "code",
   "execution_count": 25,
   "id": "202dff55",
   "metadata": {},
   "outputs": [
    {
     "name": "stdout",
     "output_type": "stream",
     "text": [
      "\n",
      "\n",
      "\u001b[1m> Entering new SimpleSequentialChain chain...\u001b[0m\n",
      "\u001b[36;1m\u001b[1;3m1. LVMH Moet Hennessy Louis Vuitton SE (LVMUY)\n",
      "2. Kering SA (PPRUY)\n",
      "3. Tiffany & Co. (TIF)\n",
      "4. Richemont SA (CFRUY)\n",
      "5. Burberry Group plc (BURBY)\n",
      "6. Tapestry, Inc. (TPR)\n",
      "7. Capri Holdings Limited (CPRI)\n",
      "8. Ralph Lauren Corporation (RL)\n",
      "9. PVH Corp. (PVH)\n",
      "10. Farfetch Limited (FTCH)\u001b[0m\n",
      "\u001b[33;1m\u001b[1;3mTitle: Farfetch Limited (FTCH) Shows Modest Stock Value Increase\n",
      "\n",
      "Farfetch Limited (FTCH) has recently shown a modest increase in stock value compared to other luxury fashion companies on the market. While some companies have experienced significant growth, Farfetch Limited has been steadily climbing in value, indicating positive growth potential for investors.\n",
      "\n",
      "Despite facing challenges in the competitive luxury fashion industry, Farfetch Limited has continued to attract customers with its unique online platform that offers a diverse range of luxury brands. The company's focus on digital innovation and customer experience has helped it maintain a steady growth trajectory.\n",
      "\n",
      "Investors are keeping a close eye on Farfetch Limited as it navigates the changing landscape of the retail industry. With a loyal customer base and a strong online presence, the company is well-positioned to continue its upward trend in the market.\n",
      "\n",
      "While other luxury fashion companies may have seen larger stock value increases, Farfetch Limited's steady growth is a sign of resilience and potential for long-term success in the industry. Investors looking for a reliable investment option in the luxury fashion sector may find Farfetch Limited to be a promising choice.\u001b[0m\n",
      "\n",
      "\u001b[1m> Finished chain.\u001b[0m\n"
     ]
    },
    {
     "data": {
      "text/plain": [
       "\"Title: Farfetch Limited (FTCH) Shows Modest Stock Value Increase\\n\\nFarfetch Limited (FTCH) has recently shown a modest increase in stock value compared to other luxury fashion companies on the market. While some companies have experienced significant growth, Farfetch Limited has been steadily climbing in value, indicating positive growth potential for investors.\\n\\nDespite facing challenges in the competitive luxury fashion industry, Farfetch Limited has continued to attract customers with its unique online platform that offers a diverse range of luxury brands. The company's focus on digital innovation and customer experience has helped it maintain a steady growth trajectory.\\n\\nInvestors are keeping a close eye on Farfetch Limited as it navigates the changing landscape of the retail industry. With a loyal customer base and a strong online presence, the company is well-positioned to continue its upward trend in the market.\\n\\nWhile other luxury fashion companies may have seen larger stock value increases, Farfetch Limited's steady growth is a sign of resilience and potential for long-term success in the industry. Investors looking for a reliable investment option in the luxury fashion sector may find Farfetch Limited to be a promising choice.\""
      ]
     },
     "execution_count": 25,
     "metadata": {},
     "output_type": "execute_result"
    }
   ],
   "source": [
    "llm = ChatOpenAI(temperature=0.9)\n",
    "\n",
    "# prompt template 1\n",
    "first_prompt = ChatPromptTemplate.from_template(\n",
    "    \"Compile the top 10 financial stocks with the highest value increase in 2024, for the {area} area.\"\n",
    ")\n",
    "\n",
    "# Chain 1\n",
    "chain_one = LLMChain(llm=llm, prompt=first_prompt)\n",
    "\n",
    "\n",
    "# prompt template 2\n",
    "second_prompt = ChatPromptTemplate.from_template(\n",
    "    \"Based on the list outputed: {outputs}, create a news article highlighting and supporting the one with the least stock value increase.\"\n",
    ")\n",
    "# chain 2\n",
    "chain_two = LLMChain(llm=llm, prompt=second_prompt)\n",
    "\n",
    "overall_simple_chain = SimpleSequentialChain(chains=[chain_one, chain_two],\n",
    "                                             verbose=True\n",
    "                                            )\n",
    "\n",
    "area = \"Fashion\"\n",
    "overall_simple_chain.run(area)"
   ]
  },
  {
   "cell_type": "code",
   "execution_count": 27,
   "id": "7afb24ff",
   "metadata": {
    "scrolled": false
   },
   "outputs": [
    {
     "name": "stdout",
     "output_type": "stream",
     "text": [
      "\n",
      "\n",
      "\u001b[1m> Entering new SimpleSequentialChain chain...\u001b[0m\n",
      "\u001b[36;1m\u001b[1;3m\"Throne of Glass\" by Sarah J. Maas is a fantasy novel that follows the story of Celaena Sardothien, an infamous assassin who is serving a life sentence in the salt mines of Endovier. However, she is given a chance for freedom when the Crown Prince of Adarlan offers her a deal: compete in a competition to become the King's Champion, and after four years of service, she will earn her freedom.\n",
      "\n",
      "As Celaena competes in the competition, she forms close bonds with other competitors like Chaol Westfall, the captain of the guard, and Dorian Havilliard, the Crown Prince. As she navigates the treacherous challenges of the competition, she uncovers a dark conspiracy within the kingdom and realizes that there is more at stake than just her own freedom.\n",
      "\n",
      "Key characters in the novel include Celaena Sardothien, a skilled and deadly assassin with a complicated past; Chaol Westfall, the loyal and honorable captain of the guard; and Dorian Havilliard, the charismatic and charming Crown Prince. Other important characters include Nehemia Ytger, a princess from a foreign kingdom, and Princess Kaltain Rompier, a scheming courtier.\n",
      "\n",
      "Themes in \"Throne of Glass\" include the nature of power and ambition, the importance of friendship and loyalty, and the impact of past traumas on one's present actions. The novel also explores the themes of love and sacrifice, as Celaena must navigate her feelings for both Chaol and Dorian while uncovering the mysteries of the kingdom.\n",
      "\n",
      "Overall, \"Throne of Glass\" is a thrilling and captivating fantasy novel that follows a strong and complex heroine as she fights for her freedom and uncovers the dark secrets of her world.\u001b[0m\n",
      "\u001b[33;1m\u001b[1;3m\"In a kingdom where power and ambition reign, a deadly assassin must fight for her freedom in a treacherous competition. 'Throne of Glass' follows Celaena Sardothien as she navigates friendship, loyalty, and dark conspiracies. With twists and turns at every corner, this thrilling fantasy novel is perfect for teenagers and mature readers alike. Will Celaena emerge victorious, or will the secrets of the kingdom consume her? Find out in Sarah J. Maas' gripping tale of love, sacrifice, and redemption.\"\u001b[0m\n",
      "\n",
      "\u001b[1m> Finished chain.\u001b[0m\n"
     ]
    },
    {
     "data": {
      "text/plain": [
       "'\"In a kingdom where power and ambition reign, a deadly assassin must fight for her freedom in a treacherous competition. \\'Throne of Glass\\' follows Celaena Sardothien as she navigates friendship, loyalty, and dark conspiracies. With twists and turns at every corner, this thrilling fantasy novel is perfect for teenagers and mature readers alike. Will Celaena emerge victorious, or will the secrets of the kingdom consume her? Find out in Sarah J. Maas\\' gripping tale of love, sacrifice, and redemption.\"'"
      ]
     },
     "execution_count": 27,
     "metadata": {},
     "output_type": "execute_result"
    }
   ],
   "source": [
    "llm = ChatOpenAI(temperature=0.9)\n",
    "\n",
    "# prompt template 1\n",
    "first_prompt = ChatPromptTemplate.from_template(\n",
    "    #Repeat the initial query or create a new query that would feed into the second prompt\n",
    "    \"Please provide a detailed summary of the book: {book_title}. Include the main plot points, key characters, and any important themes.\"\n",
    ")\n",
    "\n",
    "# Chain 1\n",
    "chain_one = LLMChain(llm=llm, prompt=first_prompt)\n",
    "\n",
    "\n",
    "# prompt template 2\n",
    "second_prompt = ChatPromptTemplate.from_template(\n",
    "    \"Based on the detailed summary: {detailed_summary}, create a compelling blurb for marketing the book. The demographic target for this blurb are teenagers and men over 50 years old.\"\n",
    ")\n",
    "# chain 2\n",
    "chain_two = LLMChain(llm=llm, prompt=second_prompt)\n",
    "\n",
    "overall_simple_chain = SimpleSequentialChain(chains=[chain_one, chain_two],\n",
    "                                             verbose=True\n",
    "                             \n",
    "                                        )\n",
    "\n",
    "book = 'Throne of Glass'\n",
    "overall_simple_chain.run(book)"
   ]
  },
  {
   "cell_type": "code",
   "execution_count": 29,
   "id": "ffe0e3ef",
   "metadata": {},
   "outputs": [
    {
     "name": "stdout",
     "output_type": "stream",
     "text": [
      "\n",
      "\n",
      "\u001b[1m> Entering new SimpleSequentialChain chain...\u001b[0m\n",
      "\u001b[36;1m\u001b[1;3m\"Throne of Glass\" is a fantasy novel by Sarah J. Maas that follows the story of Celaena Sardothien, a skilled assassin who is serving a life sentence in the salt mines of Endovier. However, she is offered a chance at freedom by the prince of Adarlan, Dorian Havilliard, if she agrees to compete in a deadly competition to become the king's champion.\n",
      "\n",
      "As Celaena competes in the competition, she must navigate the treacherous politics of the court, face off against other skilled contestants, and uncover a sinister plot that threatens the kingdom. Along the way, she forms unlikely alliances with Dorian, the captain of the guard Chaol Westfall, and the princess Nehemia Ytger.\n",
      "\n",
      "Key characters in the novel include Celaena Sardothien, a strong and skilled assassin with a mysterious past; Dorian Havilliard, the charming and ambitious prince of Adarlan; Chaol Westfall, the loyal and honorable captain of the guard; and Nehemia Ytger, the rebellious princess of Eyllwe.\n",
      "\n",
      "Important themes in the book include power and ambition, loyalty and betrayal, and the struggle for freedom and justice. As Celaena navigates the dangerous world of the competition and the court, she must confront her own past and make choices that will determine the fate of the kingdom.\u001b[0m\n",
      "\u001b[33;1m\u001b[1;3m\"Enter a world of deadly competition, treacherous politics, and dark secrets in Sarah J. Maas' thrilling fantasy novel, Throne of Glass. Follow the journey of Celaena Sardothien, a skilled assassin offered a chance at freedom if she can become the king's champion. As alliances are forged and betrayals unfold, Celaena must navigate a dangerous path to uncover a sinister plot that threatens the kingdom. Will she triumph against all odds, or will the shadows of her past consume her? Find out in this gripping tale of power, ambition, and the fight for justice.\"\u001b[0m\n",
      "\n",
      "\u001b[1m> Finished chain.\u001b[0m\n"
     ]
    },
    {
     "data": {
      "text/plain": [
       "'\"Enter a world of deadly competition, treacherous politics, and dark secrets in Sarah J. Maas\\' thrilling fantasy novel, Throne of Glass. Follow the journey of Celaena Sardothien, a skilled assassin offered a chance at freedom if she can become the king\\'s champion. As alliances are forged and betrayals unfold, Celaena must navigate a dangerous path to uncover a sinister plot that threatens the kingdom. Will she triumph against all odds, or will the shadows of her past consume her? Find out in this gripping tale of power, ambition, and the fight for justice.\"'"
      ]
     },
     "execution_count": 29,
     "metadata": {},
     "output_type": "execute_result"
    }
   ],
   "source": [
    "llm = ChatOpenAI(temperature=0.9)\n",
    "\n",
    "# prompt template 1\n",
    "first_prompt = ChatPromptTemplate.from_template(\n",
    "    #Repeat the initial query or create a new query that would feed into the second prompt\n",
    "    \"Please provide a detailed summary of the book: {book_title}. Include the main plot points, key characters, and any important themes.\"\n",
    ")\n",
    "\n",
    "# Chain 1\n",
    "chain_one = LLMChain(llm=llm, prompt=first_prompt)\n",
    "\n",
    "\n",
    "# prompt template 2\n",
    "second_prompt = ChatPromptTemplate.from_template(\n",
    "    \"Based on the detailed summary: {detailed_summary}, create a compelling blurb for marketing the book.\"\n",
    ")\n",
    "# chain 2\n",
    "chain_two = LLMChain(llm=llm, prompt=second_prompt)\n",
    "\n",
    "overall_simple_chain = SimpleSequentialChain(chains=[chain_one, chain_two],\n",
    "                                             verbose=True\n",
    "                             \n",
    "                                        )\n",
    "\n",
    "book = 'Throne of Glass'\n",
    "overall_simple_chain.run(book)"
   ]
  },
  {
   "cell_type": "markdown",
   "id": "0dd59bda-9d02-44e7-b3d6-2bec61b99d8f",
   "metadata": {},
   "source": [
    "**Repeat the above twice for different products**"
   ]
  },
  {
   "cell_type": "markdown",
   "id": "7b5ce18c",
   "metadata": {},
   "source": [
    "## SequentialChain"
   ]
  },
  {
   "cell_type": "code",
   "execution_count": 30,
   "id": "4c129ef6",
   "metadata": {},
   "outputs": [],
   "source": [
    "from langchain.chains import SequentialChain"
   ]
  },
  {
   "cell_type": "code",
   "execution_count": 52,
   "id": "016187ac",
   "metadata": {},
   "outputs": [],
   "source": [
    "llm = ChatOpenAI(temperature=0.9)\n",
    "\n",
    "\n",
    "first_prompt = ChatPromptTemplate.from_template(\n",
    "    \"Translate the {review} into Dutch.\"\n",
    "\n",
    ")\n",
    "\n",
    "chain_one = LLMChain(llm=llm, prompt=first_prompt, \n",
    "                     output_key=\"translated_review\" #Give a name to your output\n",
    "                    )\n"
   ]
  },
  {
   "cell_type": "code",
   "execution_count": 53,
   "id": "0fb0730e",
   "metadata": {},
   "outputs": [],
   "source": [
    "second_prompt = ChatPromptTemplate.from_template(\n",
    "    \"Summarize the translated review into 5 bullet points, with 2 positive impressions and 2 negative impressions from the reviews. The 5th bullet point should say if you recommend the purchase or not.\"\n",
    ")\n",
    "\n",
    "chain_two = LLMChain(llm=llm, prompt=second_prompt, \n",
    "                     output_key=\"summarized_review\" #give a name to this output\n",
    "                    )\n"
   ]
  },
  {
   "cell_type": "code",
   "execution_count": 54,
   "id": "6accf92d",
   "metadata": {},
   "outputs": [],
   "source": [
    "# prompt template 3: translate to english or other language\n",
    "third_prompt = ChatPromptTemplate.from_template(\n",
    "    \"Translate the {summarized_review} to Portuguese from Portugal.\"\n",
    ")\n",
    "# chain 3: input= Review and output= language\n",
    "chain_three = LLMChain(llm=llm, prompt=third_prompt,\n",
    "                       output_key=\"pt_translation\"\n",
    "                      )\n"
   ]
  },
  {
   "cell_type": "code",
   "execution_count": 55,
   "id": "c7a46121",
   "metadata": {},
   "outputs": [],
   "source": [
    "\n",
    "# prompt template 4: follow up message that take as inputs the two previous prompts' variables\n",
    "fourth_prompt = ChatPromptTemplate.from_template(\n",
    "        \"Compare the {translated_review} with the {pt_translation} and find commonalities between the two.\"\n",
    ")\n",
    "chain_four = LLMChain(llm=llm, prompt=fourth_prompt,\n",
    "                      output_key=\"final_output\"\n",
    "                     )\n"
   ]
  },
  {
   "cell_type": "code",
   "execution_count": 56,
   "id": "89603117",
   "metadata": {},
   "outputs": [],
   "source": [
    "# overall_chain: input= Review \n",
    "# and output= English_Review,summary, followup_message\n",
    "overall_chain = SequentialChain(\n",
    "    chains=[chain_one, chain_two, chain_three, chain_four],\n",
    "    input_variables=[\"review\"],\n",
    "    output_variables=[\"translated_review\", \"summarized_review\", \"pt_translation\", \"final_output\"],\n",
    "    verbose=True\n",
    ")"
   ]
  },
  {
   "cell_type": "code",
   "execution_count": 57,
   "id": "51b04f45",
   "metadata": {},
   "outputs": [
    {
     "name": "stdout",
     "output_type": "stream",
     "text": [
      "\n",
      "\n",
      "\u001b[1m> Entering new SequentialChain chain...\u001b[0m\n",
      "\n",
      "\u001b[1m> Finished chain.\u001b[0m\n"
     ]
    },
    {
     "data": {
      "text/plain": [
       "{'review': \"Je trouve le goût médiocre. La mousse ne tient pas, c'est bizarre. J'achète les mêmes dans le commerce et le goût est bien meilleur...\\nVieux lot ou contrefaçon !?\",\n",
       " 'translated_review': 'Ik vind de smaak middelmatig. Het schuim blijft niet lang, het is vreemd. Ik koop dezelfde in de winkel en de smaak is veel beter... Oude partij of namaak!?',\n",
       " 'summarized_review': '- Positive: The product arrived quickly and was well-packaged.\\n- Positive: The sound quality of the headphones is impressive and clear.\\n- Negative: The Bluetooth connection is unreliable and frequently disconnects.\\n- Negative: The battery life of the headphones is shorter than expected.\\n- Recommendation: I do not recommend purchasing these headphones due to the unreliable Bluetooth connection and short battery life.',\n",
       " 'pt_translation': '- Positivo: O produto chegou rapidamente e estava bem embalado.\\n- Positivo: A qualidade de som dos auscultadores é impressionante e clara.\\n- Negativo: A ligação Bluetooth é pouco fiável e desconecta frequentemente.\\n- Negativo: A vida da bateria dos auscultadores é mais curta do que o esperado.\\n- Recomendação: Não recomendo a compra destes auscultadores devido à ligação Bluetooth pouco fiável e à curta vida da bateria.',\n",
       " 'final_output': 'Both reviews mention specific characteristics of the product they are reviewing, such as taste and foam retention in the first review, and sound quality and Bluetooth connectivity in the second review. They both also include positive and negative aspects of the product, as well as a recommendation or opinion on whether or not to purchase the product. Additionally, both reviews express disappointment or dissatisfaction with certain aspects of the product, whether it be the taste or connectivity issues.'}"
      ]
     },
     "execution_count": 57,
     "metadata": {},
     "output_type": "execute_result"
    }
   ],
   "source": [
    "review = df.Review[5]\n",
    "overall_chain(review)"
   ]
  },
  {
   "cell_type": "markdown",
   "id": "d2966250",
   "metadata": {},
   "source": [
    "**Repeat the above twice for different products or reviews**"
   ]
  },
  {
   "cell_type": "code",
   "execution_count": 58,
   "id": "13ca2f29",
   "metadata": {
    "scrolled": false
   },
   "outputs": [
    {
     "name": "stdout",
     "output_type": "stream",
     "text": [
      "\n",
      "\n",
      "\u001b[1m> Entering new SequentialChain chain...\u001b[0m\n",
      "\n",
      "\u001b[1m> Finished chain.\u001b[0m\n"
     ]
    },
    {
     "data": {
      "text/plain": [
       "{'review': \"This mattress had a small hole in the top of it (took forever to find where it was), and the patches that they provide did not work, maybe because it's the top of the mattress where it's kind of like fabric and a patch won't stick. Maybe I got unlucky with a defective mattress, but where's quality assurance for this company? That flat out should not happen. Emphasis on flat. Cause that's what the mattress was. Seriously horrible experience, ruined my friend's stay with me. Then they make you ship it back instead of just providing a refund, which is also super annoying to pack up an air mattress and take it to the UPS store. This company is the worst, and this mattress is the worst.\",\n",
       " 'translated_review': 'Dit matras had een kleine opening aan de bovenkant (duurde eeuwig om te vinden waar het was), en de pleisters die ze leveren werkten niet, misschien omdat het de bovenkant van het matras is waar het soort van stof is en een pleister niet blijft plakken. Misschien had ik pech met een defect matras, maar waar is de kwaliteitsborging voor dit bedrijf? Dat zou gewoon niet mogen gebeuren. Nadruk op plat. Omdat dat is wat het matras was. Serieus verschrikkelijke ervaring, verpestte het verblijf van mijn vriend met mij. Dan laten ze je het terug sturen in plaats van gewoon een terugbetaling te bieden, wat ook super irritant is om een luchtmatras in te pakken en mee te nemen naar de UPS-winkel. Dit bedrijf is het ergste, en dit matras is het ergste.',\n",
       " 'summarized_review': \"- The reviewer enjoyed the convenience of the wireless charging feature.\\n- The reviewer appreciated the sleek and modern design of the product.\\n- The product's battery life was reported to be shorter than expected.\\n- The reviewer found the sound quality to be lacking.\\n- I do not recommend purchasing this product.\",\n",
       " 'pt_translation': '- O revisor gostou da conveniência da funcionalidade de carregamento sem fios.\\n- O revisor apreciou o design elegante e moderno do produto.\\n- A vida útil da bateria do produto foi relatada como sendo mais curta do que o esperado.\\n- O revisor encontrou a qualidade do som a desejar.\\n- Não recomendo a compra deste produto.',\n",
       " 'final_output': '- Ambos os comentários são revisões de produtos.\\n- Ambos os revisores expressam descontentamento com a qualidade do produto.\\n- Ambos os revisores mencionam aspectos específicos do produto que não atenderam às suas expectativas (abertura pequena no colchão inflável, curta vida útil da bateria, qualidade do som insatisfatória).\\n- Ambos os revisores não recomendam a compra do produto.'}"
      ]
     },
     "execution_count": 58,
     "metadata": {},
     "output_type": "execute_result"
    }
   ],
   "source": [
    "llm = ChatOpenAI(temperature=0.9)\n",
    "\n",
    "\n",
    "first_prompt = ChatPromptTemplate.from_template(\n",
    "    \"Translate the {review} into Dutch.\"\n",
    "\n",
    ")\n",
    "\n",
    "chain_one = LLMChain(llm=llm, prompt=first_prompt, \n",
    "                     output_key=\"translated_review\" #Give a name to your output\n",
    "                    )\n",
    "\n",
    "second_prompt = ChatPromptTemplate.from_template(\n",
    "    \"Summarize the translated review into 5 bullet points, with 2 positive impressions and 2 negative impressions from the reviews. The 5th bullet point should say if you recommend the purchase or not.\"\n",
    ")\n",
    "\n",
    "chain_two = LLMChain(llm=llm, prompt=second_prompt, \n",
    "                     output_key=\"summarized_review\" #give a name to this output\n",
    "                    )\n",
    "\n",
    "# prompt template 3: translate to english or other language\n",
    "third_prompt = ChatPromptTemplate.from_template(\n",
    "    \"Translate the {summarized_review} to Portuguese from Portugal.\"\n",
    ")\n",
    "# chain 3: input= Review and output= language\n",
    "chain_three = LLMChain(llm=llm, prompt=third_prompt,\n",
    "                       output_key=\"pt_translation\"\n",
    "                      )\n",
    "\n",
    "\n",
    "# prompt template 4: follow up message that take as inputs the two previous prompts' variables\n",
    "fourth_prompt = ChatPromptTemplate.from_template(\n",
    "        \"Compare the {translated_review} with the {pt_translation} and find commonalities between the two.\"\n",
    ")\n",
    "chain_four = LLMChain(llm=llm, prompt=fourth_prompt,\n",
    "                      output_key=\"final_output\"\n",
    "                     )\n",
    "\n",
    "# overall_chain: input= Review \n",
    "# and output= English_Review,summary, followup_message\n",
    "overall_chain = SequentialChain(\n",
    "    chains=[chain_one, chain_two, chain_three, chain_four],\n",
    "    input_variables=[\"review\"],\n",
    "    output_variables=[\"translated_review\", \"summarized_review\", \"pt_translation\", \"final_output\"],\n",
    "    verbose=True\n",
    ")\n",
    "\n",
    "review = df.Review[2]\n",
    "overall_chain(review)"
   ]
  },
  {
   "cell_type": "code",
   "execution_count": 63,
   "id": "d14980f1",
   "metadata": {
    "scrolled": true
   },
   "outputs": [
    {
     "name": "stdout",
     "output_type": "stream",
     "text": [
      "\n",
      "\n",
      "\u001b[1m> Entering new SequentialChain chain...\u001b[0m\n",
      "\n",
      "\u001b[1m> Finished chain.\u001b[0m\n"
     ]
    },
    {
     "data": {
      "text/plain": [
       "{'review': 'I loved the waterproof sac, although the opening was made of a hard plastic. I don’t know if that would break easily. But I couldn’t turn my phone on, once it was in the pouch.',\n",
       " 'translated_review': \"Eu amei o saco à prova d'água, apesar da abertura ser de plástico duro. Não sei se isso quebraria facilmente. Mas não consegui ligar meu celular, uma vez que estava na bolsa.\",\n",
       " 'summarized_review': '- Positive: Excellent location, right in the heart of the city\\n- Positive: Friendly and helpful staff\\n- Negative: Rooms are quite small\\n- Negative: Limited amenities in the hotel\\n- Recommendation: I recommend this hotel for its prime location and friendly staff.',\n",
       " 'pt_translation': '- Positive: Excelente ubicación, justo en el corazón de la ciudad\\n- Positive: Personal amigable y servicial\\n- Negative: Las habitaciones son bastante pequeñas\\n- Negative: Servicios limitados en el hotel\\n- Recommendation: Recomiendo este hotel por su excelente ubicación y personal amigable.',\n",
       " 'final_output': 'Both reviews mention positives and negatives about a product or service. The first review talks about liking a waterproof bag with a hard plastic opening, but expressing concern about the durability and functionality of the product. The second review mentions the excellent location and friendly staff of a hotel, but also brings up negatives about small rooms and limited services. In both cases, the reviewers provide a balanced perspective by mentioning both positive and negative aspects of their experience. Additionally, both reviews end with a recommendation based on the overall experience.'}"
      ]
     },
     "execution_count": 63,
     "metadata": {},
     "output_type": "execute_result"
    }
   ],
   "source": [
    "llm = ChatOpenAI(temperature=0.9)\n",
    "\n",
    "\n",
    "first_prompt = ChatPromptTemplate.from_template(\n",
    "    \"Translate the {review} into Portuguese.\\n\"\n",
    "\n",
    ")\n",
    "\n",
    "chain_one = LLMChain(llm=llm, prompt=first_prompt, \n",
    "                     output_key=\"translated_review\" #Give a name to your output\n",
    "                    )\n",
    "\n",
    "second_prompt = ChatPromptTemplate.from_template(\n",
    "    \"Summarize the translated review into 5 bullet points, with 2 positive impressions and 2 negative impressions from the reviews. The 5th bullet point should say if you recommend the purchase or not.\\n\"\n",
    ")\n",
    "\n",
    "chain_two = LLMChain(llm=llm, prompt=second_prompt, \n",
    "                     output_key=\"summarized_review\" #give a name to this output\n",
    "                    )\n",
    "\n",
    "# prompt template 3: translate to english or other language\n",
    "third_prompt = ChatPromptTemplate.from_template(\n",
    "    \"Translate the {summarized_review} to English.\\n\"\n",
    ")\n",
    "# chain 3: input= Review and output= language\n",
    "chain_three = LLMChain(llm=llm, prompt=third_prompt,\n",
    "                       output_key=\"pt_translation\"\n",
    "                      )\n",
    "\n",
    "\n",
    "# prompt template 4: follow up message that take as inputs the two previous prompts' variables\n",
    "fourth_prompt = ChatPromptTemplate.from_template(\n",
    "        \"Compare the {translated_review} with the {pt_translation} and find commonalities between the two.\\n\"\n",
    ")\n",
    "chain_four = LLMChain(llm=llm, prompt=fourth_prompt,\n",
    "                      output_key=\"final_output\"\n",
    "                     )\n",
    "\n",
    "# overall_chain: input= Review \n",
    "# and output= English_Review,summary, followup_message\n",
    "overall_chain = SequentialChain(\n",
    "    chains=[chain_one, chain_two, chain_three, chain_four],\n",
    "    input_variables=[\"review\"],\n",
    "    output_variables=[\"translated_review\", \"summarized_review\", \"pt_translation\", \"final_output\"],\n",
    "    verbose=True\n",
    ")\n",
    "\n",
    "review = df.Review[1]\n",
    "overall_chain(review)"
   ]
  },
  {
   "cell_type": "markdown",
   "id": "940fc69c",
   "metadata": {},
   "source": [
    "The output above includes a translation to Spanish that I didn't ask for. "
   ]
  },
  {
   "cell_type": "markdown",
   "id": "3187cf07-458a-4226-bec7-3dec7ee47af2",
   "metadata": {},
   "source": []
  },
  {
   "cell_type": "code",
   "execution_count": null,
   "id": "cbdef88f",
   "metadata": {},
   "outputs": [],
   "source": []
  },
  {
   "cell_type": "markdown",
   "id": "3041ea4c",
   "metadata": {},
   "source": [
    "## Router Chain"
   ]
  },
  {
   "cell_type": "code",
   "execution_count": 81,
   "id": "ade83f4f",
   "metadata": {},
   "outputs": [],
   "source": [
    "physics_template = \"\"\"You are a very smart physics professor. \\\n",
    "You are great at answering questions about physics in a concise\\\n",
    "and easy to understand manner. \\\n",
    "When you don't know the answer to a question you admit\\\n",
    "that you don't know.\n",
    "\n",
    "Here is a question:\n",
    "{input}\"\"\"\n",
    "\n",
    "\n",
    "math_template = \"\"\"You are a very good mathematician. \\\n",
    "You are great at answering math questions. \\\n",
    "You are so good because you are able to break down \\\n",
    "hard problems into their component parts, \n",
    "answer the component parts, and then put them together\\\n",
    "to answer the broader question.\n",
    "\n",
    "Here is a question:\n",
    "{input}\"\"\"\n",
    "\n",
    "history_template = \"\"\"You are a very good historian. \\\n",
    "You have an excellent knowledge of and understanding of people,\\\n",
    "events and contexts from a range of historical periods. \\\n",
    "You have the ability to think, reflect, debate, discuss and \\\n",
    "evaluate the past. You have a respect for historical evidence\\\n",
    "and the ability to make use of it to support your explanations \\\n",
    "and judgements.\n",
    "\n",
    "Here is a question:\n",
    "{input}\"\"\"\n",
    "\n",
    "\n",
    "computerscience_template = \"\"\" You are a successful computer scientist.\\\n",
    "You have a passion for creativity, collaboration,\\\n",
    "forward-thinking, confidence, strong problem-solving capabilities,\\\n",
    "understanding of theories and algorithms, and excellent communication \\\n",
    "skills. You are great at answering coding questions. \\\n",
    "You are so good because you know how to solve a problem by \\\n",
    "describing the solution in imperative steps \\\n",
    "that a machine can easily interpret and you know how to \\\n",
    "choose a solution that has a good balance between \\\n",
    "time complexity and space complexity. \n",
    "\n",
    "Here is a question:\n",
    "{input}\"\"\""
   ]
  },
  {
   "cell_type": "code",
   "execution_count": 83,
   "id": "5f590e9f",
   "metadata": {},
   "outputs": [],
   "source": [
    "prompt_infos = [\n",
    "    {\n",
    "        \"name\": \"physics\", \n",
    "        \"description\": \"Good for answering questions about physics\", \n",
    "        \"prompt_template\": physics_template\n",
    "    },\n",
    "    {\n",
    "        \"name\": \"math\", \n",
    "        \"description\": \"Good for answering math questions\", \n",
    "        \"prompt_template\": math_template\n",
    "    },\n",
    "    {\n",
    "        \"name\": \"History\", \n",
    "        \"description\": \"Good for answering history questions\", \n",
    "        \"prompt_template\": history_template\n",
    "    },\n",
    "    {\n",
    "        \"name\": \"computer science\", \n",
    "        \"description\": \"Good for answering computer science questions\", \n",
    "        \"prompt_template\": computerscience_template\n",
    "    }\n",
    "]"
   ]
  },
  {
   "cell_type": "code",
   "execution_count": null,
   "id": "25d6be3f",
   "metadata": {},
   "outputs": [],
   "source": []
  },
  {
   "cell_type": "code",
   "execution_count": 84,
   "id": "31b06fc8",
   "metadata": {},
   "outputs": [],
   "source": [
    "from langchain.chains.router import MultiPromptChain\n",
    "from langchain.chains.router.llm_router import LLMRouterChain,RouterOutputParser\n",
    "from langchain.prompts import PromptTemplate"
   ]
  },
  {
   "cell_type": "code",
   "execution_count": 85,
   "id": "f3f50bcc",
   "metadata": {},
   "outputs": [],
   "source": [
    "llm = ChatOpenAI(temperature=0)"
   ]
  },
  {
   "cell_type": "code",
   "execution_count": 86,
   "id": "8eefec24",
   "metadata": {},
   "outputs": [],
   "source": [
    "destination_chains = {}\n",
    "for p_info in prompt_infos:\n",
    "    name = p_info[\"name\"]\n",
    "    prompt_template = p_info[\"prompt_template\"]\n",
    "    prompt = ChatPromptTemplate.from_template(template=prompt_template)\n",
    "    chain = LLMChain(llm=llm, prompt=prompt)\n",
    "    destination_chains[name] = chain  \n",
    "    \n",
    "destinations = [f\"{p['name']}: {p['description']}\" for p in prompt_infos]\n",
    "destinations_str = \"\\n\".join(destinations)"
   ]
  },
  {
   "cell_type": "code",
   "execution_count": 87,
   "id": "9f98018a",
   "metadata": {},
   "outputs": [],
   "source": [
    "default_prompt = PromptTemplate.from_template(\"{input}\")\n",
    "default_chain = LLMChain(llm=llm, prompt=default_prompt)"
   ]
  },
  {
   "cell_type": "code",
   "execution_count": 88,
   "id": "11b2e2ba",
   "metadata": {},
   "outputs": [],
   "source": [
    "MULTI_PROMPT_ROUTER_TEMPLATE = \"\"\"Given a raw text input to a \\\n",
    "language model select the model prompt best suited for the input. \\\n",
    "You will be given the names of the available prompts and a \\\n",
    "description of what the prompt is best suited for. \\\n",
    "You may also revise the original input if you think that revising\\\n",
    "it will ultimately lead to a better response from the language model.\n",
    "\n",
    "<< FORMATTING >>\n",
    "Return a markdown code snippet with a JSON object formatted to look like:\n",
    "```json\n",
    "{{{{\n",
    "    \"destination\": string \\ name of the prompt to use or \"DEFAULT\"\n",
    "    \"next_inputs\": string \\ a potentially modified version of the original input\n",
    "}}}}\n",
    "```\n",
    "\n",
    "REMEMBER: \"destination\" MUST be one of the candidate prompt \\\n",
    "names specified below OR it can be \"DEFAULT\" if the input is not\\\n",
    "well suited for any of the candidate prompts.\n",
    "REMEMBER: \"next_inputs\" can just be the original input \\\n",
    "if you don't think any modifications are needed.\n",
    "\n",
    "<< CANDIDATE PROMPTS >>\n",
    "{destinations}\n",
    "\n",
    "<< INPUT >>\n",
    "{{input}}\n",
    "\n",
    "<< OUTPUT (remember to include the ```json)>>\"\"\""
   ]
  },
  {
   "cell_type": "code",
   "execution_count": 89,
   "id": "1387109d",
   "metadata": {},
   "outputs": [],
   "source": [
    "router_template = MULTI_PROMPT_ROUTER_TEMPLATE.format(\n",
    "    destinations=destinations_str\n",
    ")\n",
    "router_prompt = PromptTemplate(\n",
    "    template=router_template,\n",
    "    input_variables=[\"input\"],\n",
    "    output_parser=RouterOutputParser(),\n",
    ")\n",
    "\n",
    "router_chain = LLMRouterChain.from_llm(llm, router_prompt)"
   ]
  },
  {
   "cell_type": "code",
   "execution_count": 90,
   "id": "2fb7d560",
   "metadata": {},
   "outputs": [],
   "source": [
    "chain = MultiPromptChain(router_chain=router_chain, \n",
    "                         destination_chains=destination_chains, \n",
    "                         default_chain=default_chain, verbose=True\n",
    "                        )"
   ]
  },
  {
   "cell_type": "code",
   "execution_count": 91,
   "id": "d86b2131",
   "metadata": {},
   "outputs": [
    {
     "name": "stdout",
     "output_type": "stream",
     "text": [
      "\n",
      "\n",
      "\u001b[1m> Entering new MultiPromptChain chain...\u001b[0m\n",
      "physics: {'input': 'What is black body radiation?'}\n",
      "\u001b[1m> Finished chain.\u001b[0m\n"
     ]
    },
    {
     "data": {
      "text/plain": [
       "\"Black body radiation refers to the electromagnetic radiation emitted by a perfect black body, which is an idealized physical body that absorbs all incident electromagnetic radiation. The radiation emitted by a black body depends only on its temperature and follows a specific distribution known as Planck's law. This radiation is characterized by a continuous spectrum of wavelengths and intensities, with the peak intensity shifting to shorter wavelengths as the temperature of the black body increases. Black body radiation plays a key role in understanding concepts such as thermal radiation and the quantization of energy in quantum mechanics.\""
      ]
     },
     "execution_count": 91,
     "metadata": {},
     "output_type": "execute_result"
    }
   ],
   "source": [
    "chain.run(\"What is black body radiation?\")"
   ]
  },
  {
   "cell_type": "code",
   "execution_count": 92,
   "id": "3b717379",
   "metadata": {},
   "outputs": [
    {
     "name": "stdout",
     "output_type": "stream",
     "text": [
      "\n",
      "\n",
      "\u001b[1m> Entering new MultiPromptChain chain...\u001b[0m\n",
      "math: {'input': 'what is 2 + 2'}\n",
      "\u001b[1m> Finished chain.\u001b[0m\n"
     ]
    },
    {
     "data": {
      "text/plain": [
       "'The answer to 2 + 2 is 4.'"
      ]
     },
     "execution_count": 92,
     "metadata": {},
     "output_type": "execute_result"
    }
   ],
   "source": [
    "chain.run(\"what is 2 + 2\")"
   ]
  },
  {
   "cell_type": "code",
   "execution_count": 93,
   "id": "29e5be01",
   "metadata": {},
   "outputs": [
    {
     "name": "stdout",
     "output_type": "stream",
     "text": [
      "\n",
      "\n",
      "\u001b[1m> Entering new MultiPromptChain chain...\u001b[0m\n",
      "biology: {'input': 'Why does every cell in our body contain DNA?'}"
     ]
    },
    {
     "ename": "ValueError",
     "evalue": "Received invalid destination chain name 'biology'",
     "output_type": "error",
     "traceback": [
      "\u001b[0;31m---------------------------------------------------------------------------\u001b[0m",
      "\u001b[0;31mValueError\u001b[0m                                Traceback (most recent call last)",
      "Cell \u001b[0;32mIn[93], line 1\u001b[0m\n\u001b[0;32m----> 1\u001b[0m chain\u001b[38;5;241m.\u001b[39mrun(\u001b[38;5;124m\"\u001b[39m\u001b[38;5;124mWhy does every cell in our body contain DNA?\u001b[39m\u001b[38;5;124m\"\u001b[39m)\n",
      "File \u001b[0;32m/opt/anaconda3/lib/python3.11/site-packages/langchain_core/_api/deprecation.py:168\u001b[0m, in \u001b[0;36mdeprecated.<locals>.deprecate.<locals>.warning_emitting_wrapper\u001b[0;34m(*args, **kwargs)\u001b[0m\n\u001b[1;32m    166\u001b[0m     warned \u001b[38;5;241m=\u001b[39m \u001b[38;5;28;01mTrue\u001b[39;00m\n\u001b[1;32m    167\u001b[0m     emit_warning()\n\u001b[0;32m--> 168\u001b[0m \u001b[38;5;28;01mreturn\u001b[39;00m wrapped(\u001b[38;5;241m*\u001b[39margs, \u001b[38;5;241m*\u001b[39m\u001b[38;5;241m*\u001b[39mkwargs)\n",
      "File \u001b[0;32m/opt/anaconda3/lib/python3.11/site-packages/langchain/chains/base.py:600\u001b[0m, in \u001b[0;36mChain.run\u001b[0;34m(self, callbacks, tags, metadata, *args, **kwargs)\u001b[0m\n\u001b[1;32m    598\u001b[0m     \u001b[38;5;28;01mif\u001b[39;00m \u001b[38;5;28mlen\u001b[39m(args) \u001b[38;5;241m!=\u001b[39m \u001b[38;5;241m1\u001b[39m:\n\u001b[1;32m    599\u001b[0m         \u001b[38;5;28;01mraise\u001b[39;00m \u001b[38;5;167;01mValueError\u001b[39;00m(\u001b[38;5;124m\"\u001b[39m\u001b[38;5;124m`run` supports only one positional argument.\u001b[39m\u001b[38;5;124m\"\u001b[39m)\n\u001b[0;32m--> 600\u001b[0m     \u001b[38;5;28;01mreturn\u001b[39;00m \u001b[38;5;28mself\u001b[39m(args[\u001b[38;5;241m0\u001b[39m], callbacks\u001b[38;5;241m=\u001b[39mcallbacks, tags\u001b[38;5;241m=\u001b[39mtags, metadata\u001b[38;5;241m=\u001b[39mmetadata)[\n\u001b[1;32m    601\u001b[0m         _output_key\n\u001b[1;32m    602\u001b[0m     ]\n\u001b[1;32m    604\u001b[0m \u001b[38;5;28;01mif\u001b[39;00m kwargs \u001b[38;5;129;01mand\u001b[39;00m \u001b[38;5;129;01mnot\u001b[39;00m args:\n\u001b[1;32m    605\u001b[0m     \u001b[38;5;28;01mreturn\u001b[39;00m \u001b[38;5;28mself\u001b[39m(kwargs, callbacks\u001b[38;5;241m=\u001b[39mcallbacks, tags\u001b[38;5;241m=\u001b[39mtags, metadata\u001b[38;5;241m=\u001b[39mmetadata)[\n\u001b[1;32m    606\u001b[0m         _output_key\n\u001b[1;32m    607\u001b[0m     ]\n",
      "File \u001b[0;32m/opt/anaconda3/lib/python3.11/site-packages/langchain_core/_api/deprecation.py:168\u001b[0m, in \u001b[0;36mdeprecated.<locals>.deprecate.<locals>.warning_emitting_wrapper\u001b[0;34m(*args, **kwargs)\u001b[0m\n\u001b[1;32m    166\u001b[0m     warned \u001b[38;5;241m=\u001b[39m \u001b[38;5;28;01mTrue\u001b[39;00m\n\u001b[1;32m    167\u001b[0m     emit_warning()\n\u001b[0;32m--> 168\u001b[0m \u001b[38;5;28;01mreturn\u001b[39;00m wrapped(\u001b[38;5;241m*\u001b[39margs, \u001b[38;5;241m*\u001b[39m\u001b[38;5;241m*\u001b[39mkwargs)\n",
      "File \u001b[0;32m/opt/anaconda3/lib/python3.11/site-packages/langchain/chains/base.py:383\u001b[0m, in \u001b[0;36mChain.__call__\u001b[0;34m(self, inputs, return_only_outputs, callbacks, tags, metadata, run_name, include_run_info)\u001b[0m\n\u001b[1;32m    351\u001b[0m \u001b[38;5;250m\u001b[39m\u001b[38;5;124;03m\"\"\"Execute the chain.\u001b[39;00m\n\u001b[1;32m    352\u001b[0m \n\u001b[1;32m    353\u001b[0m \u001b[38;5;124;03mArgs:\u001b[39;00m\n\u001b[0;32m   (...)\u001b[0m\n\u001b[1;32m    374\u001b[0m \u001b[38;5;124;03m        `Chain.output_keys`.\u001b[39;00m\n\u001b[1;32m    375\u001b[0m \u001b[38;5;124;03m\"\"\"\u001b[39;00m\n\u001b[1;32m    376\u001b[0m config \u001b[38;5;241m=\u001b[39m {\n\u001b[1;32m    377\u001b[0m     \u001b[38;5;124m\"\u001b[39m\u001b[38;5;124mcallbacks\u001b[39m\u001b[38;5;124m\"\u001b[39m: callbacks,\n\u001b[1;32m    378\u001b[0m     \u001b[38;5;124m\"\u001b[39m\u001b[38;5;124mtags\u001b[39m\u001b[38;5;124m\"\u001b[39m: tags,\n\u001b[1;32m    379\u001b[0m     \u001b[38;5;124m\"\u001b[39m\u001b[38;5;124mmetadata\u001b[39m\u001b[38;5;124m\"\u001b[39m: metadata,\n\u001b[1;32m    380\u001b[0m     \u001b[38;5;124m\"\u001b[39m\u001b[38;5;124mrun_name\u001b[39m\u001b[38;5;124m\"\u001b[39m: run_name,\n\u001b[1;32m    381\u001b[0m }\n\u001b[0;32m--> 383\u001b[0m \u001b[38;5;28;01mreturn\u001b[39;00m \u001b[38;5;28mself\u001b[39m\u001b[38;5;241m.\u001b[39minvoke(\n\u001b[1;32m    384\u001b[0m     inputs,\n\u001b[1;32m    385\u001b[0m     cast(RunnableConfig, {k: v \u001b[38;5;28;01mfor\u001b[39;00m k, v \u001b[38;5;129;01min\u001b[39;00m config\u001b[38;5;241m.\u001b[39mitems() \u001b[38;5;28;01mif\u001b[39;00m v \u001b[38;5;129;01mis\u001b[39;00m \u001b[38;5;129;01mnot\u001b[39;00m \u001b[38;5;28;01mNone\u001b[39;00m}),\n\u001b[1;32m    386\u001b[0m     return_only_outputs\u001b[38;5;241m=\u001b[39mreturn_only_outputs,\n\u001b[1;32m    387\u001b[0m     include_run_info\u001b[38;5;241m=\u001b[39minclude_run_info,\n\u001b[1;32m    388\u001b[0m )\n",
      "File \u001b[0;32m/opt/anaconda3/lib/python3.11/site-packages/langchain/chains/base.py:166\u001b[0m, in \u001b[0;36mChain.invoke\u001b[0;34m(self, input, config, **kwargs)\u001b[0m\n\u001b[1;32m    164\u001b[0m \u001b[38;5;28;01mexcept\u001b[39;00m \u001b[38;5;167;01mBaseException\u001b[39;00m \u001b[38;5;28;01mas\u001b[39;00m e:\n\u001b[1;32m    165\u001b[0m     run_manager\u001b[38;5;241m.\u001b[39mon_chain_error(e)\n\u001b[0;32m--> 166\u001b[0m     \u001b[38;5;28;01mraise\u001b[39;00m e\n\u001b[1;32m    167\u001b[0m run_manager\u001b[38;5;241m.\u001b[39mon_chain_end(outputs)\n\u001b[1;32m    169\u001b[0m \u001b[38;5;28;01mif\u001b[39;00m include_run_info:\n",
      "File \u001b[0;32m/opt/anaconda3/lib/python3.11/site-packages/langchain/chains/base.py:156\u001b[0m, in \u001b[0;36mChain.invoke\u001b[0;34m(self, input, config, **kwargs)\u001b[0m\n\u001b[1;32m    153\u001b[0m \u001b[38;5;28;01mtry\u001b[39;00m:\n\u001b[1;32m    154\u001b[0m     \u001b[38;5;28mself\u001b[39m\u001b[38;5;241m.\u001b[39m_validate_inputs(inputs)\n\u001b[1;32m    155\u001b[0m     outputs \u001b[38;5;241m=\u001b[39m (\n\u001b[0;32m--> 156\u001b[0m         \u001b[38;5;28mself\u001b[39m\u001b[38;5;241m.\u001b[39m_call(inputs, run_manager\u001b[38;5;241m=\u001b[39mrun_manager)\n\u001b[1;32m    157\u001b[0m         \u001b[38;5;28;01mif\u001b[39;00m new_arg_supported\n\u001b[1;32m    158\u001b[0m         \u001b[38;5;28;01melse\u001b[39;00m \u001b[38;5;28mself\u001b[39m\u001b[38;5;241m.\u001b[39m_call(inputs)\n\u001b[1;32m    159\u001b[0m     )\n\u001b[1;32m    161\u001b[0m     final_outputs: Dict[\u001b[38;5;28mstr\u001b[39m, Any] \u001b[38;5;241m=\u001b[39m \u001b[38;5;28mself\u001b[39m\u001b[38;5;241m.\u001b[39mprep_outputs(\n\u001b[1;32m    162\u001b[0m         inputs, outputs, return_only_outputs\n\u001b[1;32m    163\u001b[0m     )\n\u001b[1;32m    164\u001b[0m \u001b[38;5;28;01mexcept\u001b[39;00m \u001b[38;5;167;01mBaseException\u001b[39;00m \u001b[38;5;28;01mas\u001b[39;00m e:\n",
      "File \u001b[0;32m/opt/anaconda3/lib/python3.11/site-packages/langchain/chains/router/base.py:106\u001b[0m, in \u001b[0;36mMultiRouteChain._call\u001b[0;34m(self, inputs, run_manager)\u001b[0m\n\u001b[1;32m    104\u001b[0m     \u001b[38;5;28;01mreturn\u001b[39;00m \u001b[38;5;28mself\u001b[39m\u001b[38;5;241m.\u001b[39mdefault_chain(route\u001b[38;5;241m.\u001b[39mnext_inputs, callbacks\u001b[38;5;241m=\u001b[39mcallbacks)\n\u001b[1;32m    105\u001b[0m \u001b[38;5;28;01melse\u001b[39;00m:\n\u001b[0;32m--> 106\u001b[0m     \u001b[38;5;28;01mraise\u001b[39;00m \u001b[38;5;167;01mValueError\u001b[39;00m(\n\u001b[1;32m    107\u001b[0m         \u001b[38;5;124mf\u001b[39m\u001b[38;5;124m\"\u001b[39m\u001b[38;5;124mReceived invalid destination chain name \u001b[39m\u001b[38;5;124m'\u001b[39m\u001b[38;5;132;01m{\u001b[39;00mroute\u001b[38;5;241m.\u001b[39mdestination\u001b[38;5;132;01m}\u001b[39;00m\u001b[38;5;124m'\u001b[39m\u001b[38;5;124m\"\u001b[39m\n\u001b[1;32m    108\u001b[0m     )\n",
      "\u001b[0;31mValueError\u001b[0m: Received invalid destination chain name 'biology'"
     ]
    }
   ],
   "source": [
    "chain.run(\"Why does every cell in our body contain DNA?\")"
   ]
  },
  {
   "cell_type": "code",
   "execution_count": null,
   "id": "15c48ad1",
   "metadata": {},
   "outputs": [],
   "source": []
  },
  {
   "cell_type": "markdown",
   "id": "09e0c60b-7ae0-453e-9467-142d8dafee6e",
   "metadata": {},
   "source": [
    "**Repeat the above at least once for different inputs and chains executions - Be creative!**"
   ]
  },
  {
   "cell_type": "code",
   "execution_count": 77,
   "id": "eb901a92",
   "metadata": {},
   "outputs": [],
   "source": [
    "physics_template = \"\"\"You are a very smart physics professor. \\\n",
    "You are great at answering questions about physics in a concise\\\n",
    "and easy to understand manner. \\\n",
    "When you don't know the answer to a question you admit\\\n",
    "that you don't know.\n",
    "\n",
    "Here is a question:\n",
    "{input}\"\"\"\n",
    "\n",
    "\n",
    "math_template = \"\"\"You are a very good mathematician. \\\n",
    "You are great at answering math questions. \\\n",
    "You are so good because you are able to break down \\\n",
    "hard problems into their component parts, \n",
    "answer the component parts, and then put them together\\\n",
    "to answer the broader question.\n",
    "\n",
    "Here is a question:\n",
    "{input}\"\"\"\n",
    "\n",
    "history_template = \"\"\"You are a very good historian. \\\n",
    "You have an excellent knowledge of and understanding of people,\\\n",
    "events and contexts from a range of historical periods. \\\n",
    "You have the ability to think, reflect, debate, discuss and \\\n",
    "evaluate the past. You have a respect for historical evidence\\\n",
    "and the ability to make use of it to support your explanations \\\n",
    "and judgements.\n",
    "\n",
    "Here is a question:\n",
    "{input}\"\"\"\n",
    "\n",
    "\n",
    "computerscience_template = \"\"\" You are a successful computer scientist.\\\n",
    "You have a passion for creativity, collaboration,\\\n",
    "forward-thinking, confidence, strong problem-solving capabilities,\\\n",
    "understanding of theories and algorithms, and excellent communication \\\n",
    "skills. You are great at answering coding questions. \\\n",
    "You are so good because you know how to solve a problem by \\\n",
    "describing the solution in imperative steps \\\n",
    "that a machine can easily interpret and you know how to \\\n",
    "choose a solution that has a good balance between \\\n",
    "time complexity and space complexity. \n",
    "\n",
    "Here is a question:\n",
    "{input}\"\"\"\n",
    "\n",
    "prompt_infos = [\n",
    "    {\n",
    "        \"name\": \"physics\", \n",
    "        \"description\": \"Good for answering questions about physics\", \n",
    "        \"prompt_template\": physics_template\n",
    "    },\n",
    "    {\n",
    "        \"name\": \"math\", \n",
    "        \"description\": \"Good for answering math questions\", \n",
    "        \"prompt_template\": math_template\n",
    "    },\n",
    "    {\n",
    "        \"name\": \"History\", \n",
    "        \"description\": \"Good for answering history questions\", \n",
    "        \"prompt_template\": history_template\n",
    "    },\n",
    "    {\n",
    "        \"name\": \"computer science\", \n",
    "        \"description\": \"Good for answering computer science questions\", \n",
    "        \"prompt_template\": computerscience_template\n",
    "    }\n",
    "]\n",
    "\n",
    "from langchain.chains.router import MultiPromptChain\n",
    "from langchain.chains.router.llm_router import LLMRouterChain,RouterOutputParser\n",
    "from langchain.prompts import PromptTemplate\n",
    "\n",
    "default_prompt = ChatPromptTemplate.from_template(\"{input}\")\n",
    "default_chain = LLMChain(llm=llm, prompt=default_prompt)\n",
    "\n",
    "\n",
    "\n",
    "MULTI_PROMPT_ROUTER_TEMPLATE = \"\"\"Given a raw text input to a \\\n",
    "language model select the model prompt best suited for the input. \\\n",
    "You will be given the names of the available prompts and a \\\n",
    "description of what the prompt is best suited for. \\\n",
    "You may also revise the original input if you think that revising\\\n",
    "it will ultimately lead to a better response from the language model.\n",
    "\n",
    "<< FORMATTING >>\n",
    "Return a markdown code snippet with a JSON object formatted to look like:\n",
    "json\n",
    "{{{{\n",
    "    \"destination\": string \\ name of the prompt to use or use default\n",
    "    \"next_inputs\": string \\ a potentially modified version of the original input\n",
    "}}}}\n",
    "\n",
    "\n",
    "REMEMBER: \"destination\" MUST be one of the candidate prompt \\\n",
    "names specified below OR it can be \"DEFAULT\" if the input is not\\\n",
    "well suited for any of the candidate prompts.\n",
    "REMEMBER: \"next_inputs\" can just be the original input \\\n",
    "if you don't think any modifications are needed.\n",
    "\n",
    "<< CANDIDATE PROMPTS >>\n",
    "{destinations}\n",
    "\n",
    "<< INPUT >>\n",
    "{{input}}\n",
    "\n",
    "<< OUTPUT (remember to include the \n",
    "json)>>\"\"\"\n",
    "\n",
    "router_template = MULTI_PROMPT_ROUTER_TEMPLATE.format(\n",
    "    destinations=destinations_str\n",
    ")\n",
    "router_prompt = PromptTemplate(\n",
    "    template=router_template,\n",
    "    input_variables=[\"input\"],\n",
    "    output_parser=RouterOutputParser(),\n",
    ")\n",
    "\n",
    "router_chain = LLMRouterChain.from_llm(llm, router_prompt)\n",
    "\n",
    "chain = MultiPromptChain(router_chain=router_chain, \n",
    "                         destination_chains=destination_chains, \n",
    "                         default_chain=default_chain, verbose=True\n",
    "                        )\n",
    "\n"
   ]
  },
  {
   "cell_type": "code",
   "execution_count": 79,
   "id": "eedf0a16",
   "metadata": {},
   "outputs": [
    {
     "name": "stdout",
     "output_type": "stream",
     "text": [
      "\n",
      "\n",
      "\u001b[1m> Entering new MultiPromptChain chain...\u001b[0m\n",
      "physics: {'input': 'Why is the sky blue?'}\n",
      "\u001b[1m> Finished chain.\u001b[0m\n"
     ]
    },
    {
     "data": {
      "text/plain": [
       "\"The sky appears blue because of the way sunlight interacts with Earth's atmosphere. When sunlight reaches the Earth's atmosphere, it is made up of different colors of light, each with a different wavelength. The shorter wavelengths, such as blue and violet, are scattered more easily by the gases and particles in the atmosphere. This scattering causes the blue light to be scattered in all directions, making the sky appear blue to our eyes.\""
      ]
     },
     "execution_count": 79,
     "metadata": {},
     "output_type": "execute_result"
    }
   ],
   "source": [
    "chain.run(\"Why is the sky blue?\")"
   ]
  },
  {
   "cell_type": "code",
   "execution_count": 80,
   "id": "ff86cd83",
   "metadata": {},
   "outputs": [
    {
     "name": "stdout",
     "output_type": "stream",
     "text": [
      "\n",
      "\n",
      "\u001b[1m> Entering new MultiPromptChain chain...\u001b[0m\n",
      "None: {'input': 'Why are cats faster than dogs?'}\n",
      "\u001b[1m> Finished chain.\u001b[0m\n"
     ]
    },
    {
     "data": {
      "text/plain": [
       "'Cats are generally faster than dogs because they have a more agile and flexible body structure. Cats have a highly developed musculature that allows them to sprint and change direction quickly. They also have retractable claws that provide them with better traction and grip when running. Additionally, cats have a higher proportion of fast-twitch muscle fibers, which are responsible for quick bursts of speed. Dogs, on the other hand, are built more for endurance and stamina rather than speed.'"
      ]
     },
     "execution_count": 80,
     "metadata": {},
     "output_type": "execute_result"
    }
   ],
   "source": [
    "chain.run(\"Why are cats faster than dogs?\")"
   ]
  },
  {
   "cell_type": "code",
   "execution_count": 94,
   "id": "83e098e5",
   "metadata": {},
   "outputs": [
    {
     "name": "stdout",
     "output_type": "stream",
     "text": [
      "\n",
      "\n",
      "\u001b[1m> Entering new MultiPromptChain chain...\u001b[0m\n",
      "physics: {'input': 'Why do objects fall when dropped?'}\n",
      "\u001b[1m> Finished chain.\u001b[0m\n",
      "Input: 'Why do objects fall when dropped?'\n",
      "Response: Objects fall when dropped because of the force of gravity. Gravity is a fundamental force in the universe that causes all objects with mass to be attracted to each other. When an object is dropped, the force of gravity pulls it towards the center of the Earth, causing it to accelerate downwards. This acceleration is what we perceive as the object falling.\n",
      "\n",
      "\n",
      "\n",
      "\u001b[1m> Entering new MultiPromptChain chain...\u001b[0m\n",
      "math: {'input': 'What are the fundamental principles of calculus?'}\n",
      "\u001b[1m> Finished chain.\u001b[0m\n",
      "Input: 'What are the fundamental principles of calculus?'\n",
      "Response: The fundamental principles of calculus are:\n",
      "\n",
      "1. The concept of limits: Calculus is based on the idea of limits, which allows us to understand how quantities change and approach certain values as they get closer and closer to a specific point.\n",
      "\n",
      "2. The derivative: The derivative is a fundamental concept in calculus that represents the rate of change of a function at a given point. It is used to find slopes of curves, velocities, and rates of change in various real-world applications.\n",
      "\n",
      "3. The integral: The integral is the reverse operation of differentiation and represents the accumulation of quantities over a certain interval. It is used to find areas under curves, volumes of solids, and other quantities in real-world problems.\n",
      "\n",
      "4. The fundamental theorem of calculus: This theorem establishes the relationship between differentiation and integration, showing that they are inverse operations of each other. It allows us to evaluate integrals by finding antiderivatives of functions.\n",
      "\n",
      "By understanding and applying these fundamental principles, mathematicians are able to solve a wide range of problems in calculus and analyze various phenomena in the natural world.\n",
      "\n",
      "\n",
      "\n",
      "\u001b[1m> Entering new MultiPromptChain chain...\u001b[0m\n",
      "History: {'input': 'What caused World War II?'}\n",
      "\u001b[1m> Finished chain.\u001b[0m\n",
      "Input: 'What caused World War II?'\n",
      "Response: There were several factors that contributed to the outbreak of World War II. Some of the main causes include:\n",
      "\n",
      "1. Treaty of Versailles: The harsh terms imposed on Germany after World War I, including massive reparations payments and territorial losses, created resentment and economic hardship in Germany, which laid the groundwork for the rise of Adolf Hitler and the Nazi Party.\n",
      "\n",
      "2. Rise of totalitarian regimes: The aggressive expansionist policies of fascist leaders such as Hitler in Germany, Mussolini in Italy, and Tojo in Japan destabilized the international order and led to territorial disputes and conflicts.\n",
      "\n",
      "3. Failure of appeasement: The policy of appeasement pursued by Western powers, particularly Britain and France, in response to Hitler's aggressive actions in the 1930s only emboldened him further and allowed him to continue his expansionist policies unchecked.\n",
      "\n",
      "4. Economic instability: The Great Depression of the 1930s created economic hardship and social unrest in many countries, leading to the rise of extremist political movements and increasing tensions between nations.\n",
      "\n",
      "5. Failure of the League of Nations: The League of Nations, established after World War I to promote peace and prevent future conflicts, proved ineffective in dealing with the aggressive actions of fascist regimes, undermining its credibility and ability to maintain international peace and security.\n",
      "\n",
      "Overall, a combination of political, economic, and social factors contributed to the outbreak of World War II, leading to a devastating global conflict that resulted in millions of deaths and widespread destruction.\n",
      "\n",
      "\n",
      "\n",
      "\u001b[1m> Entering new MultiPromptChain chain...\u001b[0m\n",
      "computer science: {'input': 'How do computers process images?'}\n",
      "\u001b[1m> Finished chain.\u001b[0m\n",
      "Input: 'How do computers process images?'\n",
      "Response: Computers process images by breaking them down into individual pixels, which are the smallest unit of an image. Each pixel is represented by a combination of red, green, and blue values, which determine the color of the pixel. \n",
      "\n",
      "The computer then uses algorithms to manipulate and analyze these pixels, such as resizing, rotating, or applying filters. These algorithms can be simple, like changing the brightness of an image, or complex, like facial recognition software.\n",
      "\n",
      "Once the image has been processed, it can be displayed on a screen or saved to a file. The computer uses its processing power and memory to perform these operations efficiently, taking into account factors like time complexity and space complexity to ensure optimal performance.\n",
      "\n",
      "\n",
      "\n",
      "\u001b[1m> Entering new MultiPromptChain chain...\u001b[0m\n",
      "None: {'input': 'Tell me about the best books to read.'}\n",
      "\u001b[1m> Finished chain.\u001b[0m\n",
      "Input: 'Tell me about the best books to read.'\n",
      "Response: There are countless amazing books out there, so it really depends on your personal preferences and interests. However, some universally acclaimed books that are often considered among the best include:\n",
      "\n",
      "1. \"To Kill a Mockingbird\" by Harper Lee - A classic novel that explores themes of racism, injustice, and morality in the American South.\n",
      "\n",
      "2. \"1984\" by George Orwell - A dystopian novel that explores the dangers of totalitarianism and the erosion of individual freedoms.\n",
      "\n",
      "3. \"Pride and Prejudice\" by Jane Austen - A timeless romance novel that satirizes societal norms and expectations.\n",
      "\n",
      "4. \"The Great Gatsby\" by F. Scott Fitzgerald - A novel that explores the American Dream and the emptiness of materialism.\n",
      "\n",
      "5. \"Moby-Dick\" by Herman Melville - A classic novel about obsession, revenge, and the power of nature.\n",
      "\n",
      "6. \"Beloved\" by Toni Morrison - A powerful novel that explores the legacy of slavery and its impact on African American identity.\n",
      "\n",
      "7. \"One Hundred Years of Solitude\" by Gabriel Garcia Marquez - A magical realist novel that tells the story of the Buendia family over several generations.\n",
      "\n",
      "8. \"The Catcher in the Rye\" by J.D. Salinger - A coming-of-age novel that explores themes of alienation, identity, and adolescence.\n",
      "\n",
      "These are just a few examples of some of the best books to read, but there are many more out there waiting to be discovered. Ultimately, the best book for you to read is one that resonates with you personally and leaves a lasting impact.\n",
      "\n"
     ]
    }
   ],
   "source": [
    "inputs = [\n",
    "    \"Why do objects fall when dropped?\",\n",
    "    \"What are the fundamental principles of calculus?\",\n",
    "    \"What caused World War II?\",\n",
    "    \"How do computers process images?\",\n",
    "    \"Tell me about the best books to read.\"\n",
    "]\n",
    "\n",
    "# Run the chain for each input\n",
    "for input_text in inputs:\n",
    "    response = chain.run(input_text)\n",
    "    print(f\"Input: '{input_text}'\")\n",
    "    print(f\"Response: {response}\\n\")"
   ]
  }
 ],
 "metadata": {
  "kernelspec": {
   "display_name": "Python 3 (ipykernel)",
   "language": "python",
   "name": "python3"
  },
  "language_info": {
   "codemirror_mode": {
    "name": "ipython",
    "version": 3
   },
   "file_extension": ".py",
   "mimetype": "text/x-python",
   "name": "python",
   "nbconvert_exporter": "python",
   "pygments_lexer": "ipython3",
   "version": "3.11.9"
  }
 },
 "nbformat": 4,
 "nbformat_minor": 5
}
